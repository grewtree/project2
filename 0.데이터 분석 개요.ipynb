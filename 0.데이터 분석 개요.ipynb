{
 "cells": [
  {
   "cell_type": "markdown",
   "id": "e6e84ea1",
   "metadata": {},
   "source": [
    "# 데이터 분석 개요"
   ]
  },
  {
   "cell_type": "markdown",
   "id": "141b83c2",
   "metadata": {},
   "source": [
    "## 데이터 분석의 목적\n",
    "\n",
    "- 문제 상황 : 매년 1만2000~1만5000여명이 스스로 목숨을 끊고 있는 한국은 십수년 동안 'OECD 자살률 1위'라는 오명을 씻지 못하고 있다.\n",
    "- 목표 : Domain knowledge를 바탕으로 국가 통계를 train/test 데이터로 만들어 자살자 수를 예측하는 회귀모델을 만들고 어떤 요인들이 자살자 수에 영향을 미치는지 분석해 본다."
   ]
  },
  {
   "cell_type": "markdown",
   "id": "09608d6c",
   "metadata": {},
   "source": [
    "## 방법"
   ]
  },
  {
   "cell_type": "markdown",
   "id": "fb4c41d6",
   "metadata": {},
   "source": [
    "### 분석 데이터는 네 가지 데이터를 합쳐 만든다.\n",
    "\n",
    "그동안 국내외 학계와 언론에서는 자살의 이유로 다양한 원인을 지목했다. 크게 보면 경제적 이유, 기후적 이유, 질병적 이유, 계절적 이유로 나눌 수 있는데, 이번 분석에서는 이를 대표할 수 있는 데이터들을 모아 feature로 만들어 분석해본다.\n",
    "\n",
    "- 자살자 수 데이터(통계청 mdis 마이크로 데이터, 사망원인통계) : 일자별 지역별 자살자 수(전처리 필요) \n",
    "- 날씨 데이터(기상청) : 지역별 날짜별 평균기온, 평균 강수량, 평균 습도, 평균 일조량, 평균 일사량\n",
    "- 경제 데이터(통계청) : 소비자물가지수(월), 가계부채(월), 실업자 수(월), 코스피지수(일), 환율(일)\n",
    "- 보건 데이터(국민관심질병통계) : 지역별 월별 우울증 환자 수"
   ]
  },
  {
   "cell_type": "markdown",
   "id": "8771c2bb",
   "metadata": {},
   "source": [
    "### 모델링 대상 기간은 2010년대(2011~2020)으로 한다.\n",
    "- 2000년대부터 분석을 하면 데이터 컨트롤이 어려운 것은 물론 비용적 측면도 상당할 것으로 예상됨.\n",
    "- 1차 분석 뒤 범위 확장(2000년대)을 판단하기로 결정."
   ]
  },
  {
   "cell_type": "markdown",
   "id": "b9e7ece6",
   "metadata": {},
   "source": [
    "### 목표 : 회귀분석을 통해 날짜별/지역별 target(자살자 수)을 예측하는 모델을 만든다."
   ]
  }
 ],
 "metadata": {
  "celltoolbar": "Raw Cell Format",
  "kernelspec": {
   "display_name": "Python 3",
   "language": "python",
   "name": "python3"
  },
  "language_info": {
   "codemirror_mode": {
    "name": "ipython",
    "version": 3
   },
   "file_extension": ".py",
   "mimetype": "text/x-python",
   "name": "python",
   "nbconvert_exporter": "python",
   "pygments_lexer": "ipython3",
   "version": "3.8.8"
  },
  "toc": {
   "base_numbering": 1,
   "nav_menu": {},
   "number_sections": true,
   "sideBar": true,
   "skip_h1_title": false,
   "title_cell": "Table of Contents",
   "title_sidebar": "Contents",
   "toc_cell": false,
   "toc_position": {
    "height": "calc(100% - 180px)",
    "left": "10px",
    "top": "150px",
    "width": "247.825px"
   },
   "toc_section_display": true,
   "toc_window_display": true
  }
 },
 "nbformat": 4,
 "nbformat_minor": 5
}
