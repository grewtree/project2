{
 "cells": [
  {
   "cell_type": "markdown",
   "id": "2fb35a74",
   "metadata": {},
   "source": [
    "# 금융 데이터 전처리"
   ]
  },
  {
   "cell_type": "markdown",
   "id": "2bbcd381",
   "metadata": {
    "ExecuteTime": {
     "end_time": "2022-05-23T06:36:27.525136Z",
     "start_time": "2022-05-23T06:36:27.516276Z"
    }
   },
   "source": [
    "## 데이터 불러오기\n",
    "- 데이터 목록\n",
    "    - 일별 자살자 수 통계 : [mdis](https://mdis.kostat.go.kr/dwnlSvc/ofrSurvSearch.do?curMenuNo=UI_POR_P9240) 사망원인통계\n",
    "    - 우울증 관련 통계 : [보건의료빅데이터개방시스템](http://opendata.hira.or.kr/op/opc/olapMfrnIntrsIlnsInfo.do)\n",
    "    - 소비자물가지수 : [KOSIS](https://kosis.kr/statHtml/statHtml.do?orgId=301&tblId=DT_005Y006&vw_cd=MT_ZTITLE&list_id=301_30106_4_2_2&scrId=&seqNo=&lang_mode=ko&obj_var_id=&itm_id=&conn_path=MT_ZTITLE&path=%252FstatisticsList%252FstatisticsListIndex.do)\n",
    "    - 가계부채 : [가계신용 동향](https://www.index.go.kr/potal/main/EachDtlPageDetail.do?idx_cd=1076&param=003)\n",
    "    - kospi 지수, 환율 : [FinanceDataReader](https://github.com/FinanceData/FinanceDataReader) 라이브러리\n",
    "    - 기상데이터 : [기상청 기상자료개방포털](https://data.kma.go.kr/climate/RankState/selectRankStatisticsDivisionList.do)"
   ]
  },
  {
   "cell_type": "markdown",
   "id": "1d6eb37d",
   "metadata": {},
   "source": [
    "## fdr 라이브러리"
   ]
  },
  {
   "cell_type": "code",
   "execution_count": 7,
   "id": "182188fd",
   "metadata": {
    "ExecuteTime": {
     "end_time": "2022-05-22T02:15:30.111227Z",
     "start_time": "2022-05-22T02:15:20.700385Z"
    }
   },
   "outputs": [
    {
     "name": "stdout",
     "output_type": "stream",
     "text": [
      "Requirement already satisfied: finance-datareader in c:\\users\\82103\\anaconda3\\lib\\site-packages (0.9.33)\n",
      "Requirement already satisfied: requests-file in c:\\users\\82103\\anaconda3\\lib\\site-packages (from finance-datareader) (1.5.1)\n",
      "Requirement already satisfied: lxml in c:\\users\\82103\\anaconda3\\lib\\site-packages (from finance-datareader) (4.6.3)\n",
      "Requirement already satisfied: requests>=2.3.0 in c:\\users\\82103\\anaconda3\\lib\\site-packages (from finance-datareader) (2.25.1)\n",
      "Requirement already satisfied: tqdm in c:\\users\\82103\\anaconda3\\lib\\site-packages (from finance-datareader) (4.59.0)\n",
      "Requirement already satisfied: pandas>=0.19.2 in c:\\users\\82103\\anaconda3\\lib\\site-packages (from finance-datareader) (1.2.4)\n",
      "Requirement already satisfied: numpy>=1.16.5 in c:\\users\\82103\\anaconda3\\lib\\site-packages (from pandas>=0.19.2->finance-datareader) (1.20.1)\n",
      "Requirement already satisfied: pytz>=2017.3 in c:\\users\\82103\\anaconda3\\lib\\site-packages (from pandas>=0.19.2->finance-datareader) (2021.1)\n",
      "Requirement already satisfied: python-dateutil>=2.7.3 in c:\\users\\82103\\anaconda3\\lib\\site-packages (from pandas>=0.19.2->finance-datareader) (2.8.1)\n",
      "Requirement already satisfied: six>=1.5 in c:\\users\\82103\\anaconda3\\lib\\site-packages (from python-dateutil>=2.7.3->pandas>=0.19.2->finance-datareader) (1.15.0)\n",
      "Requirement already satisfied: certifi>=2017.4.17 in c:\\users\\82103\\anaconda3\\lib\\site-packages (from requests>=2.3.0->finance-datareader) (2020.12.5)\n",
      "Requirement already satisfied: idna<3,>=2.5 in c:\\users\\82103\\anaconda3\\lib\\site-packages (from requests>=2.3.0->finance-datareader) (2.10)\n",
      "Requirement already satisfied: urllib3<1.27,>=1.21.1 in c:\\users\\82103\\anaconda3\\lib\\site-packages (from requests>=2.3.0->finance-datareader) (1.26.4)\n",
      "Requirement already satisfied: chardet<5,>=3.0.2 in c:\\users\\82103\\anaconda3\\lib\\site-packages (from requests>=2.3.0->finance-datareader) (4.0.0)\n"
     ]
    }
   ],
   "source": [
    "!pip install -U finance-datareader"
   ]
  },
  {
   "cell_type": "code",
   "execution_count": 8,
   "id": "b727884a",
   "metadata": {
    "ExecuteTime": {
     "end_time": "2022-05-22T02:15:30.122545Z",
     "start_time": "2022-05-22T02:15:30.113777Z"
    }
   },
   "outputs": [
    {
     "data": {
      "text/plain": [
       "'0.9.33'"
      ]
     },
     "execution_count": 8,
     "metadata": {},
     "output_type": "execute_result"
    }
   ],
   "source": [
    "import FinanceDataReader as fdr\n",
    "\n",
    "fdr.__version__"
   ]
  },
  {
   "cell_type": "code",
   "execution_count": 9,
   "id": "e593c72d",
   "metadata": {
    "ExecuteTime": {
     "end_time": "2022-05-22T02:15:32.612890Z",
     "start_time": "2022-05-22T02:15:30.124897Z"
    }
   },
   "outputs": [
    {
     "data": {
      "text/html": [
       "<div>\n",
       "<style scoped>\n",
       "    .dataframe tbody tr th:only-of-type {\n",
       "        vertical-align: middle;\n",
       "    }\n",
       "\n",
       "    .dataframe tbody tr th {\n",
       "        vertical-align: top;\n",
       "    }\n",
       "\n",
       "    .dataframe thead th {\n",
       "        text-align: right;\n",
       "    }\n",
       "</style>\n",
       "<table border=\"1\" class=\"dataframe\">\n",
       "  <thead>\n",
       "    <tr style=\"text-align: right;\">\n",
       "      <th></th>\n",
       "      <th>Close</th>\n",
       "      <th>Open</th>\n",
       "      <th>High</th>\n",
       "      <th>Low</th>\n",
       "      <th>Volume</th>\n",
       "      <th>Change</th>\n",
       "    </tr>\n",
       "    <tr>\n",
       "      <th>Date</th>\n",
       "      <th></th>\n",
       "      <th></th>\n",
       "      <th></th>\n",
       "      <th></th>\n",
       "      <th></th>\n",
       "      <th></th>\n",
       "    </tr>\n",
       "  </thead>\n",
       "  <tbody>\n",
       "    <tr>\n",
       "      <th>2011-01-03</th>\n",
       "      <td>2070.08</td>\n",
       "      <td>2063.69</td>\n",
       "      <td>2070.09</td>\n",
       "      <td>2054.83</td>\n",
       "      <td>3.540800e+08</td>\n",
       "      <td>0.0093</td>\n",
       "    </tr>\n",
       "    <tr>\n",
       "      <th>2011-01-04</th>\n",
       "      <td>2085.14</td>\n",
       "      <td>2074.56</td>\n",
       "      <td>2085.14</td>\n",
       "      <td>2069.12</td>\n",
       "      <td>4.159100e+08</td>\n",
       "      <td>0.0073</td>\n",
       "    </tr>\n",
       "    <tr>\n",
       "      <th>2011-01-05</th>\n",
       "      <td>2082.55</td>\n",
       "      <td>2083.10</td>\n",
       "      <td>2087.14</td>\n",
       "      <td>2076.92</td>\n",
       "      <td>3.860600e+08</td>\n",
       "      <td>-0.0012</td>\n",
       "    </tr>\n",
       "    <tr>\n",
       "      <th>2011-01-06</th>\n",
       "      <td>2077.61</td>\n",
       "      <td>2094.35</td>\n",
       "      <td>2096.65</td>\n",
       "      <td>2066.10</td>\n",
       "      <td>4.078300e+08</td>\n",
       "      <td>-0.0024</td>\n",
       "    </tr>\n",
       "    <tr>\n",
       "      <th>2011-01-07</th>\n",
       "      <td>2086.20</td>\n",
       "      <td>2073.68</td>\n",
       "      <td>2086.20</td>\n",
       "      <td>2068.66</td>\n",
       "      <td>3.355600e+08</td>\n",
       "      <td>0.0041</td>\n",
       "    </tr>\n",
       "    <tr>\n",
       "      <th>...</th>\n",
       "      <td>...</td>\n",
       "      <td>...</td>\n",
       "      <td>...</td>\n",
       "      <td>...</td>\n",
       "      <td>...</td>\n",
       "      <td>...</td>\n",
       "    </tr>\n",
       "    <tr>\n",
       "      <th>2020-12-23</th>\n",
       "      <td>2759.82</td>\n",
       "      <td>2737.74</td>\n",
       "      <td>2769.08</td>\n",
       "      <td>2716.28</td>\n",
       "      <td>1.120000e+09</td>\n",
       "      <td>0.0096</td>\n",
       "    </tr>\n",
       "    <tr>\n",
       "      <th>2020-12-24</th>\n",
       "      <td>2806.86</td>\n",
       "      <td>2762.60</td>\n",
       "      <td>2812.16</td>\n",
       "      <td>2762.60</td>\n",
       "      <td>1.030000e+09</td>\n",
       "      <td>0.0170</td>\n",
       "    </tr>\n",
       "    <tr>\n",
       "      <th>2020-12-28</th>\n",
       "      <td>2808.60</td>\n",
       "      <td>2820.95</td>\n",
       "      <td>2834.59</td>\n",
       "      <td>2799.56</td>\n",
       "      <td>1.010000e+09</td>\n",
       "      <td>0.0006</td>\n",
       "    </tr>\n",
       "    <tr>\n",
       "      <th>2020-12-29</th>\n",
       "      <td>2820.51</td>\n",
       "      <td>2810.55</td>\n",
       "      <td>2823.44</td>\n",
       "      <td>2792.06</td>\n",
       "      <td>1.050000e+09</td>\n",
       "      <td>0.0042</td>\n",
       "    </tr>\n",
       "    <tr>\n",
       "      <th>2020-12-30</th>\n",
       "      <td>2873.47</td>\n",
       "      <td>2820.36</td>\n",
       "      <td>2878.21</td>\n",
       "      <td>2809.35</td>\n",
       "      <td>1.070000e+09</td>\n",
       "      <td>0.0188</td>\n",
       "    </tr>\n",
       "  </tbody>\n",
       "</table>\n",
       "<p>2464 rows × 6 columns</p>\n",
       "</div>"
      ],
      "text/plain": [
       "              Close     Open     High      Low        Volume  Change\n",
       "Date                                                                \n",
       "2011-01-03  2070.08  2063.69  2070.09  2054.83  3.540800e+08  0.0093\n",
       "2011-01-04  2085.14  2074.56  2085.14  2069.12  4.159100e+08  0.0073\n",
       "2011-01-05  2082.55  2083.10  2087.14  2076.92  3.860600e+08 -0.0012\n",
       "2011-01-06  2077.61  2094.35  2096.65  2066.10  4.078300e+08 -0.0024\n",
       "2011-01-07  2086.20  2073.68  2086.20  2068.66  3.355600e+08  0.0041\n",
       "...             ...      ...      ...      ...           ...     ...\n",
       "2020-12-23  2759.82  2737.74  2769.08  2716.28  1.120000e+09  0.0096\n",
       "2020-12-24  2806.86  2762.60  2812.16  2762.60  1.030000e+09  0.0170\n",
       "2020-12-28  2808.60  2820.95  2834.59  2799.56  1.010000e+09  0.0006\n",
       "2020-12-29  2820.51  2810.55  2823.44  2792.06  1.050000e+09  0.0042\n",
       "2020-12-30  2873.47  2820.36  2878.21  2809.35  1.070000e+09  0.0188\n",
       "\n",
       "[2464 rows x 6 columns]"
      ]
     },
     "execution_count": 9,
     "metadata": {},
     "output_type": "execute_result"
    }
   ],
   "source": [
    "from pandas_datareader import data\n",
    "from datetime import datetime\n",
    "\n",
    "start_date = datetime(2011,1,1)\n",
    "end_date = datetime(2020,12,31)\n",
    "\n",
    "df_ks11 = fdr.DataReader('KS11', start_date, end_date)\n",
    "df_ks11"
   ]
  },
  {
   "cell_type": "markdown",
   "id": "5d865762",
   "metadata": {},
   "source": [
    "### Close data만 남기고 삭제"
   ]
  },
  {
   "cell_type": "code",
   "execution_count": 10,
   "id": "c4fcde59",
   "metadata": {
    "ExecuteTime": {
     "end_time": "2022-05-22T02:15:32.643945Z",
     "start_time": "2022-05-22T02:15:32.614894Z"
    }
   },
   "outputs": [
    {
     "data": {
      "text/html": [
       "<div>\n",
       "<style scoped>\n",
       "    .dataframe tbody tr th:only-of-type {\n",
       "        vertical-align: middle;\n",
       "    }\n",
       "\n",
       "    .dataframe tbody tr th {\n",
       "        vertical-align: top;\n",
       "    }\n",
       "\n",
       "    .dataframe thead th {\n",
       "        text-align: right;\n",
       "    }\n",
       "</style>\n",
       "<table border=\"1\" class=\"dataframe\">\n",
       "  <thead>\n",
       "    <tr style=\"text-align: right;\">\n",
       "      <th></th>\n",
       "      <th>date</th>\n",
       "      <th>Close</th>\n",
       "    </tr>\n",
       "  </thead>\n",
       "  <tbody>\n",
       "    <tr>\n",
       "      <th>0</th>\n",
       "      <td>2011-01-03</td>\n",
       "      <td>2070.08</td>\n",
       "    </tr>\n",
       "    <tr>\n",
       "      <th>1</th>\n",
       "      <td>2011-01-04</td>\n",
       "      <td>2085.14</td>\n",
       "    </tr>\n",
       "    <tr>\n",
       "      <th>2</th>\n",
       "      <td>2011-01-05</td>\n",
       "      <td>2082.55</td>\n",
       "    </tr>\n",
       "    <tr>\n",
       "      <th>3</th>\n",
       "      <td>2011-01-06</td>\n",
       "      <td>2077.61</td>\n",
       "    </tr>\n",
       "    <tr>\n",
       "      <th>4</th>\n",
       "      <td>2011-01-07</td>\n",
       "      <td>2086.20</td>\n",
       "    </tr>\n",
       "    <tr>\n",
       "      <th>...</th>\n",
       "      <td>...</td>\n",
       "      <td>...</td>\n",
       "    </tr>\n",
       "    <tr>\n",
       "      <th>2459</th>\n",
       "      <td>2020-12-23</td>\n",
       "      <td>2759.82</td>\n",
       "    </tr>\n",
       "    <tr>\n",
       "      <th>2460</th>\n",
       "      <td>2020-12-24</td>\n",
       "      <td>2806.86</td>\n",
       "    </tr>\n",
       "    <tr>\n",
       "      <th>2461</th>\n",
       "      <td>2020-12-28</td>\n",
       "      <td>2808.60</td>\n",
       "    </tr>\n",
       "    <tr>\n",
       "      <th>2462</th>\n",
       "      <td>2020-12-29</td>\n",
       "      <td>2820.51</td>\n",
       "    </tr>\n",
       "    <tr>\n",
       "      <th>2463</th>\n",
       "      <td>2020-12-30</td>\n",
       "      <td>2873.47</td>\n",
       "    </tr>\n",
       "  </tbody>\n",
       "</table>\n",
       "<p>2464 rows × 2 columns</p>\n",
       "</div>"
      ],
      "text/plain": [
       "           date    Close\n",
       "0    2011-01-03  2070.08\n",
       "1    2011-01-04  2085.14\n",
       "2    2011-01-05  2082.55\n",
       "3    2011-01-06  2077.61\n",
       "4    2011-01-07  2086.20\n",
       "...         ...      ...\n",
       "2459 2020-12-23  2759.82\n",
       "2460 2020-12-24  2806.86\n",
       "2461 2020-12-28  2808.60\n",
       "2462 2020-12-29  2820.51\n",
       "2463 2020-12-30  2873.47\n",
       "\n",
       "[2464 rows x 2 columns]"
      ]
     },
     "execution_count": 10,
     "metadata": {},
     "output_type": "execute_result"
    }
   ],
   "source": [
    "df_ks11 = df_ks11.Close.reset_index().rename(columns={'Date':'date'})\n",
    "df_ks11"
   ]
  },
  {
   "cell_type": "markdown",
   "id": "7c21fc23",
   "metadata": {},
   "source": [
    "## datareader 라이브러리"
   ]
  },
  {
   "cell_type": "code",
   "execution_count": 11,
   "id": "b5961df9",
   "metadata": {
    "ExecuteTime": {
     "end_time": "2022-05-22T02:15:33.670021Z",
     "start_time": "2022-05-22T02:15:32.645548Z"
    }
   },
   "outputs": [
    {
     "data": {
      "text/html": [
       "<div>\n",
       "<style scoped>\n",
       "    .dataframe tbody tr th:only-of-type {\n",
       "        vertical-align: middle;\n",
       "    }\n",
       "\n",
       "    .dataframe tbody tr th {\n",
       "        vertical-align: top;\n",
       "    }\n",
       "\n",
       "    .dataframe thead th {\n",
       "        text-align: right;\n",
       "    }\n",
       "</style>\n",
       "<table border=\"1\" class=\"dataframe\">\n",
       "  <thead>\n",
       "    <tr style=\"text-align: right;\">\n",
       "      <th></th>\n",
       "      <th>date</th>\n",
       "      <th>Close</th>\n",
       "    </tr>\n",
       "  </thead>\n",
       "  <tbody>\n",
       "    <tr>\n",
       "      <th>0</th>\n",
       "      <td>2011-01-03</td>\n",
       "      <td>2070.080078</td>\n",
       "    </tr>\n",
       "    <tr>\n",
       "      <th>1</th>\n",
       "      <td>2011-01-04</td>\n",
       "      <td>2085.139893</td>\n",
       "    </tr>\n",
       "    <tr>\n",
       "      <th>2</th>\n",
       "      <td>2011-01-05</td>\n",
       "      <td>2082.550049</td>\n",
       "    </tr>\n",
       "    <tr>\n",
       "      <th>3</th>\n",
       "      <td>2011-01-06</td>\n",
       "      <td>2077.610107</td>\n",
       "    </tr>\n",
       "    <tr>\n",
       "      <th>4</th>\n",
       "      <td>2011-01-07</td>\n",
       "      <td>2086.199951</td>\n",
       "    </tr>\n",
       "    <tr>\n",
       "      <th>...</th>\n",
       "      <td>...</td>\n",
       "      <td>...</td>\n",
       "    </tr>\n",
       "    <tr>\n",
       "      <th>2455</th>\n",
       "      <td>2020-12-23</td>\n",
       "      <td>2759.820068</td>\n",
       "    </tr>\n",
       "    <tr>\n",
       "      <th>2456</th>\n",
       "      <td>2020-12-24</td>\n",
       "      <td>2806.860107</td>\n",
       "    </tr>\n",
       "    <tr>\n",
       "      <th>2457</th>\n",
       "      <td>2020-12-28</td>\n",
       "      <td>2808.600098</td>\n",
       "    </tr>\n",
       "    <tr>\n",
       "      <th>2458</th>\n",
       "      <td>2020-12-29</td>\n",
       "      <td>2820.510010</td>\n",
       "    </tr>\n",
       "    <tr>\n",
       "      <th>2459</th>\n",
       "      <td>2020-12-30</td>\n",
       "      <td>2873.469971</td>\n",
       "    </tr>\n",
       "  </tbody>\n",
       "</table>\n",
       "<p>2460 rows × 2 columns</p>\n",
       "</div>"
      ],
      "text/plain": [
       "           date        Close\n",
       "0    2011-01-03  2070.080078\n",
       "1    2011-01-04  2085.139893\n",
       "2    2011-01-05  2082.550049\n",
       "3    2011-01-06  2077.610107\n",
       "4    2011-01-07  2086.199951\n",
       "...         ...          ...\n",
       "2455 2020-12-23  2759.820068\n",
       "2456 2020-12-24  2806.860107\n",
       "2457 2020-12-28  2808.600098\n",
       "2458 2020-12-29  2820.510010\n",
       "2459 2020-12-30  2873.469971\n",
       "\n",
       "[2460 rows x 2 columns]"
      ]
     },
     "execution_count": 11,
     "metadata": {},
     "output_type": "execute_result"
    }
   ],
   "source": [
    "from pandas_datareader import data\n",
    "from datetime import datetime\n",
    "\n",
    "start_date = datetime(2011,1,1)\n",
    "end_date = datetime(2020,12,31)\n",
    "\n",
    "df_kospi = data.get_data_yahoo(\"^KS11\", start_date, end_date) \n",
    "df_kospi = df_kospi.Close.reset_index().rename(columns={'Date':'date'})\n",
    "df_kospi"
   ]
  },
  {
   "cell_type": "markdown",
   "id": "8e300127",
   "metadata": {},
   "source": [
    "## 두 데이터셋 비교\n",
    "- datareader로 불러온 자료와 fdr로 불러온 자료의 shape이 다름을 확인.\n",
    "- 두 데이터프레임 비교한 결과 4일에 해당하는 자료가 datareader로 불러온 자료에 빠져 있었음.\n",
    "- fdr로만 데이터 불러오기로."
   ]
  },
  {
   "cell_type": "code",
   "execution_count": 12,
   "id": "870c5d01",
   "metadata": {
    "ExecuteTime": {
     "end_time": "2022-05-22T02:15:33.685645Z",
     "start_time": "2022-05-22T02:15:33.671563Z"
    }
   },
   "outputs": [
    {
     "name": "stdout",
     "output_type": "stream",
     "text": [
      "(2464, 2)\n",
      "(2460, 2)\n"
     ]
    }
   ],
   "source": [
    "print(df_ks11.shape),\n",
    "print(df_kospi.shape)"
   ]
  },
  {
   "cell_type": "code",
   "execution_count": 13,
   "id": "8fac660d",
   "metadata": {
    "ExecuteTime": {
     "end_time": "2022-05-22T02:15:33.701320Z",
     "start_time": "2022-05-22T02:15:33.687179Z"
    }
   },
   "outputs": [],
   "source": [
    "def GetDifferences(df1, df2):\n",
    "    df = pd.concat([df1, df2]).reset_index(drop=True)\n",
    "    idx = [diff[0] for diff in df.groupby(list(df.columns)).groups.values() if len(diff) == 1]\n",
    "    return df.reindex(idx)"
   ]
  },
  {
   "cell_type": "code",
   "execution_count": 17,
   "id": "91b4a867",
   "metadata": {
    "ExecuteTime": {
     "end_time": "2022-05-22T02:52:05.901870Z",
     "start_time": "2022-05-22T02:52:05.859493Z"
    }
   },
   "outputs": [
    {
     "data": {
      "text/html": [
       "<div>\n",
       "<style scoped>\n",
       "    .dataframe tbody tr th:only-of-type {\n",
       "        vertical-align: middle;\n",
       "    }\n",
       "\n",
       "    .dataframe tbody tr th {\n",
       "        vertical-align: top;\n",
       "    }\n",
       "\n",
       "    .dataframe thead th {\n",
       "        text-align: right;\n",
       "    }\n",
       "</style>\n",
       "<table border=\"1\" class=\"dataframe\">\n",
       "  <thead>\n",
       "    <tr style=\"text-align: right;\">\n",
       "      <th></th>\n",
       "      <th>date</th>\n",
       "    </tr>\n",
       "  </thead>\n",
       "  <tbody>\n",
       "    <tr>\n",
       "      <th>185</th>\n",
       "      <td>2011-10-04</td>\n",
       "    </tr>\n",
       "    <tr>\n",
       "      <th>743</th>\n",
       "      <td>2013-12-31</td>\n",
       "    </tr>\n",
       "    <tr>\n",
       "      <th>1663</th>\n",
       "      <td>2017-09-22</td>\n",
       "    </tr>\n",
       "    <tr>\n",
       "      <th>1720</th>\n",
       "      <td>2017-12-20</td>\n",
       "    </tr>\n",
       "  </tbody>\n",
       "</table>\n",
       "</div>"
      ],
      "text/plain": [
       "           date\n",
       "185  2011-10-04\n",
       "743  2013-12-31\n",
       "1663 2017-09-22\n",
       "1720 2017-12-20"
      ]
     },
     "execution_count": 17,
     "metadata": {},
     "output_type": "execute_result"
    }
   ],
   "source": [
    "import pandas as pd\n",
    "\n",
    "GetDifferences(pd.DataFrame(df_ks11['date']), pd.DataFrame(df_kospi['date'])) ## 해당 날짜에는 데이터가 있었음."
   ]
  },
  {
   "cell_type": "markdown",
   "id": "7c661dee",
   "metadata": {},
   "source": [
    "## kospi 데이터 날짜와 align"
   ]
  },
  {
   "cell_type": "markdown",
   "id": "d962962a",
   "metadata": {
    "ExecuteTime": {
     "end_time": "2022-05-20T02:46:52.531234Z",
     "start_time": "2022-05-20T02:46:52.495388Z"
    }
   },
   "source": [
    "### date dataframe 만들기"
   ]
  },
  {
   "cell_type": "code",
   "execution_count": 18,
   "id": "09f8aad1",
   "metadata": {
    "ExecuteTime": {
     "end_time": "2022-05-22T02:52:08.083918Z",
     "start_time": "2022-05-22T02:52:08.042025Z"
    }
   },
   "outputs": [
    {
     "name": "stdout",
     "output_type": "stream",
     "text": [
      "<class 'pandas.core.frame.DataFrame'>\n",
      "RangeIndex: 3653 entries, 0 to 3652\n",
      "Data columns (total 2 columns):\n",
      " #   Column   Non-Null Count  Dtype \n",
      "---  ------   --------------  ----- \n",
      " 0   date     3653 non-null   object\n",
      " 1   weekday  3653 non-null   int64 \n",
      "dtypes: int64(1), object(1)\n",
      "memory usage: 57.2+ KB\n"
     ]
    }
   ],
   "source": [
    "import datetime\n",
    "\n",
    "index = pd.date_range(start = '2011-01-01', end = '2020-12-31', freq= 'D')\n",
    "\n",
    "columns = ['weekday']\n",
    "\n",
    "df_date = pd.DataFrame(index = index, columns = columns)\n",
    "df_date = df_date.fillna(0)\n",
    "df_date.index.name = 'date'\n",
    "df_date.reset_index(inplace = True)\n",
    "df_date.date = df_date.date.astype(str)\n",
    "\n",
    "df_date.info()"
   ]
  },
  {
   "cell_type": "code",
   "execution_count": 19,
   "id": "08a3245c",
   "metadata": {
    "ExecuteTime": {
     "end_time": "2022-05-22T02:52:09.776445Z",
     "start_time": "2022-05-22T02:52:09.748433Z"
    }
   },
   "outputs": [],
   "source": [
    "df_ks11.date = df_ks11.date.astype('str')\n",
    "\n",
    "df_kospi = pd.merge(df_date, df_ks11, how = 'left', on = 'date')\n",
    "df_kospi = df_kospi.ffill()"
   ]
  },
  {
   "cell_type": "code",
   "execution_count": 20,
   "id": "ff0c89fe",
   "metadata": {
    "ExecuteTime": {
     "end_time": "2022-05-22T02:52:11.295921Z",
     "start_time": "2022-05-22T02:52:11.277788Z"
    }
   },
   "outputs": [
    {
     "data": {
      "text/plain": [
       "date       0\n",
       "weekday    0\n",
       "Close      2\n",
       "dtype: int64"
      ]
     },
     "execution_count": 20,
     "metadata": {},
     "output_type": "execute_result"
    }
   ],
   "source": [
    "df_kospi.isnull().sum() ## 결측치 : 2011년 신년 휴장일 2일"
   ]
  },
  {
   "cell_type": "code",
   "execution_count": 21,
   "id": "a8a9a970",
   "metadata": {
    "ExecuteTime": {
     "end_time": "2022-05-22T02:52:12.040692Z",
     "start_time": "2022-05-22T02:52:12.027784Z"
    }
   },
   "outputs": [],
   "source": [
    "## 2010년 마지막 kospi지수로 대체\n",
    "\n",
    "df_kospi.iloc[0,2] = 2051 ##2010년 12월30일 kospi 지수\n",
    "df_kospi.iloc[1,2] = 2051"
   ]
  },
  {
   "cell_type": "code",
   "execution_count": 22,
   "id": "37ee7e5a",
   "metadata": {
    "ExecuteTime": {
     "end_time": "2022-05-22T02:52:13.975329Z",
     "start_time": "2022-05-22T02:52:13.958829Z"
    }
   },
   "outputs": [
    {
     "data": {
      "text/html": [
       "<div>\n",
       "<style scoped>\n",
       "    .dataframe tbody tr th:only-of-type {\n",
       "        vertical-align: middle;\n",
       "    }\n",
       "\n",
       "    .dataframe tbody tr th {\n",
       "        vertical-align: top;\n",
       "    }\n",
       "\n",
       "    .dataframe thead th {\n",
       "        text-align: right;\n",
       "    }\n",
       "</style>\n",
       "<table border=\"1\" class=\"dataframe\">\n",
       "  <thead>\n",
       "    <tr style=\"text-align: right;\">\n",
       "      <th></th>\n",
       "      <th>date</th>\n",
       "      <th>weekday</th>\n",
       "      <th>Close</th>\n",
       "    </tr>\n",
       "  </thead>\n",
       "  <tbody>\n",
       "    <tr>\n",
       "      <th>0</th>\n",
       "      <td>2011-01-01</td>\n",
       "      <td>0</td>\n",
       "      <td>2051.00</td>\n",
       "    </tr>\n",
       "    <tr>\n",
       "      <th>1</th>\n",
       "      <td>2011-01-02</td>\n",
       "      <td>0</td>\n",
       "      <td>2051.00</td>\n",
       "    </tr>\n",
       "    <tr>\n",
       "      <th>2</th>\n",
       "      <td>2011-01-03</td>\n",
       "      <td>0</td>\n",
       "      <td>2070.08</td>\n",
       "    </tr>\n",
       "    <tr>\n",
       "      <th>3</th>\n",
       "      <td>2011-01-04</td>\n",
       "      <td>0</td>\n",
       "      <td>2085.14</td>\n",
       "    </tr>\n",
       "    <tr>\n",
       "      <th>4</th>\n",
       "      <td>2011-01-05</td>\n",
       "      <td>0</td>\n",
       "      <td>2082.55</td>\n",
       "    </tr>\n",
       "    <tr>\n",
       "      <th>...</th>\n",
       "      <td>...</td>\n",
       "      <td>...</td>\n",
       "      <td>...</td>\n",
       "    </tr>\n",
       "    <tr>\n",
       "      <th>3648</th>\n",
       "      <td>2020-12-27</td>\n",
       "      <td>0</td>\n",
       "      <td>2806.86</td>\n",
       "    </tr>\n",
       "    <tr>\n",
       "      <th>3649</th>\n",
       "      <td>2020-12-28</td>\n",
       "      <td>0</td>\n",
       "      <td>2808.60</td>\n",
       "    </tr>\n",
       "    <tr>\n",
       "      <th>3650</th>\n",
       "      <td>2020-12-29</td>\n",
       "      <td>0</td>\n",
       "      <td>2820.51</td>\n",
       "    </tr>\n",
       "    <tr>\n",
       "      <th>3651</th>\n",
       "      <td>2020-12-30</td>\n",
       "      <td>0</td>\n",
       "      <td>2873.47</td>\n",
       "    </tr>\n",
       "    <tr>\n",
       "      <th>3652</th>\n",
       "      <td>2020-12-31</td>\n",
       "      <td>0</td>\n",
       "      <td>2873.47</td>\n",
       "    </tr>\n",
       "  </tbody>\n",
       "</table>\n",
       "<p>3653 rows × 3 columns</p>\n",
       "</div>"
      ],
      "text/plain": [
       "            date  weekday    Close\n",
       "0     2011-01-01        0  2051.00\n",
       "1     2011-01-02        0  2051.00\n",
       "2     2011-01-03        0  2070.08\n",
       "3     2011-01-04        0  2085.14\n",
       "4     2011-01-05        0  2082.55\n",
       "...          ...      ...      ...\n",
       "3648  2020-12-27        0  2806.86\n",
       "3649  2020-12-28        0  2808.60\n",
       "3650  2020-12-29        0  2820.51\n",
       "3651  2020-12-30        0  2873.47\n",
       "3652  2020-12-31        0  2873.47\n",
       "\n",
       "[3653 rows x 3 columns]"
      ]
     },
     "execution_count": 22,
     "metadata": {},
     "output_type": "execute_result"
    }
   ],
   "source": [
    "df_kospi"
   ]
  },
  {
   "cell_type": "code",
   "execution_count": 23,
   "id": "bf681d44",
   "metadata": {
    "ExecuteTime": {
     "end_time": "2022-05-22T02:52:16.106893Z",
     "start_time": "2022-05-22T02:52:15.112489Z"
    }
   },
   "outputs": [
    {
     "data": {
      "text/plain": [
       "<AxesSubplot:>"
      ]
     },
     "execution_count": 23,
     "metadata": {},
     "output_type": "execute_result"
    },
    {
     "data": {
      "image/png": "[encoded data removed]",
      "text/plain": [
       "<Figure size 432x288 with 1 Axes>"
      ]
     },
     "metadata": {
      "needs_background": "light"
     },
     "output_type": "display_data"
    }
   ],
   "source": [
    "df_kospi[2000:].plot( kind = 'line' )"
   ]
  },
  {
   "cell_type": "markdown",
   "id": "7b34109c",
   "metadata": {},
   "source": [
    "# 환율 데이터"
   ]
  },
  {
   "cell_type": "code",
   "execution_count": 24,
   "id": "4a01e2c5",
   "metadata": {
    "ExecuteTime": {
     "end_time": "2022-05-22T02:52:19.231546Z",
     "start_time": "2022-05-22T02:52:17.806379Z"
    }
   },
   "outputs": [
    {
     "data": {
      "text/html": [
       "<div>\n",
       "<style scoped>\n",
       "    .dataframe tbody tr th:only-of-type {\n",
       "        vertical-align: middle;\n",
       "    }\n",
       "\n",
       "    .dataframe tbody tr th {\n",
       "        vertical-align: top;\n",
       "    }\n",
       "\n",
       "    .dataframe thead th {\n",
       "        text-align: right;\n",
       "    }\n",
       "</style>\n",
       "<table border=\"1\" class=\"dataframe\">\n",
       "  <thead>\n",
       "    <tr style=\"text-align: right;\">\n",
       "      <th></th>\n",
       "      <th>date</th>\n",
       "      <th>Close</th>\n",
       "    </tr>\n",
       "  </thead>\n",
       "  <tbody>\n",
       "    <tr>\n",
       "      <th>0</th>\n",
       "      <td>2011-01-03</td>\n",
       "      <td>1124.65</td>\n",
       "    </tr>\n",
       "    <tr>\n",
       "      <th>1</th>\n",
       "      <td>2011-01-04</td>\n",
       "      <td>1125.50</td>\n",
       "    </tr>\n",
       "    <tr>\n",
       "      <th>2</th>\n",
       "      <td>2011-01-05</td>\n",
       "      <td>1123.50</td>\n",
       "    </tr>\n",
       "    <tr>\n",
       "      <th>3</th>\n",
       "      <td>2011-01-06</td>\n",
       "      <td>1123.20</td>\n",
       "    </tr>\n",
       "    <tr>\n",
       "      <th>4</th>\n",
       "      <td>2011-01-07</td>\n",
       "      <td>1122.20</td>\n",
       "    </tr>\n",
       "    <tr>\n",
       "      <th>...</th>\n",
       "      <td>...</td>\n",
       "      <td>...</td>\n",
       "    </tr>\n",
       "    <tr>\n",
       "      <th>2604</th>\n",
       "      <td>2020-12-25</td>\n",
       "      <td>1099.07</td>\n",
       "    </tr>\n",
       "    <tr>\n",
       "      <th>2605</th>\n",
       "      <td>2020-12-28</td>\n",
       "      <td>1095.60</td>\n",
       "    </tr>\n",
       "    <tr>\n",
       "      <th>2606</th>\n",
       "      <td>2020-12-29</td>\n",
       "      <td>1090.97</td>\n",
       "    </tr>\n",
       "    <tr>\n",
       "      <th>2607</th>\n",
       "      <td>2020-12-30</td>\n",
       "      <td>1087.62</td>\n",
       "    </tr>\n",
       "    <tr>\n",
       "      <th>2608</th>\n",
       "      <td>2020-12-31</td>\n",
       "      <td>1084.47</td>\n",
       "    </tr>\n",
       "  </tbody>\n",
       "</table>\n",
       "<p>2609 rows × 2 columns</p>\n",
       "</div>"
      ],
      "text/plain": [
       "            date    Close\n",
       "0     2011-01-03  1124.65\n",
       "1     2011-01-04  1125.50\n",
       "2     2011-01-05  1123.50\n",
       "3     2011-01-06  1123.20\n",
       "4     2011-01-07  1122.20\n",
       "...          ...      ...\n",
       "2604  2020-12-25  1099.07\n",
       "2605  2020-12-28  1095.60\n",
       "2606  2020-12-29  1090.97\n",
       "2607  2020-12-30  1087.62\n",
       "2608  2020-12-31  1084.47\n",
       "\n",
       "[2609 rows x 2 columns]"
      ]
     },
     "execution_count": 24,
     "metadata": {},
     "output_type": "execute_result"
    }
   ],
   "source": [
    "df_rate = fdr.DataReader('USD/KRW', '2011-01-01','2020-12-31')\n",
    "\n",
    "df_rate = df_rate['Close'].reset_index()\n",
    "df_rate.rename(columns = {'Date' : 'date'}, inplace = True)\n",
    "df_rate.date = df_rate.date.astype('str')\n",
    "df_rate"
   ]
  },
  {
   "cell_type": "code",
   "execution_count": 25,
   "id": "92cde531",
   "metadata": {
    "ExecuteTime": {
     "end_time": "2022-05-22T02:52:20.998868Z",
     "start_time": "2022-05-22T02:52:20.973665Z"
    }
   },
   "outputs": [
    {
     "name": "stdout",
     "output_type": "stream",
     "text": [
      "<class 'pandas.core.frame.DataFrame'>\n",
      "RangeIndex: 2609 entries, 0 to 2608\n",
      "Data columns (total 2 columns):\n",
      " #   Column  Non-Null Count  Dtype  \n",
      "---  ------  --------------  -----  \n",
      " 0   date    2609 non-null   object \n",
      " 1   Close   2609 non-null   float64\n",
      "dtypes: float64(1), object(1)\n",
      "memory usage: 40.9+ KB\n"
     ]
    }
   ],
   "source": [
    "df_rate.info()"
   ]
  },
  {
   "cell_type": "code",
   "execution_count": 26,
   "id": "35966823",
   "metadata": {
    "ExecuteTime": {
     "end_time": "2022-05-22T02:52:22.378878Z",
     "start_time": "2022-05-22T02:52:22.334039Z"
    }
   },
   "outputs": [
    {
     "name": "stdout",
     "output_type": "stream",
     "text": [
      "<class 'pandas.core.frame.DataFrame'>\n",
      "RangeIndex: 3653 entries, 0 to 3652\n",
      "Data columns (total 1 columns):\n",
      " #   Column  Non-Null Count  Dtype \n",
      "---  ------  --------------  ----- \n",
      " 0   date    3653 non-null   object\n",
      "dtypes: object(1)\n",
      "memory usage: 28.7+ KB\n"
     ]
    }
   ],
   "source": [
    "index = pd.date_range(start = '2011-01-01', end = '2020-12-31', freq= 'D')\n",
    "\n",
    "df_date2 = pd.DataFrame(index = index)\n",
    "df_date2 = df_date2.fillna(0)\n",
    "df_date2.index.name = 'date'\n",
    "df_date2.reset_index(inplace = True)\n",
    "df_date2.date = df_date2.date.astype(str)\n",
    "\n",
    "df_date2.info()"
   ]
  },
  {
   "cell_type": "code",
   "execution_count": 27,
   "id": "5e66c10b",
   "metadata": {
    "ExecuteTime": {
     "end_time": "2022-05-22T02:52:24.926662Z",
     "start_time": "2022-05-22T02:52:24.907328Z"
    }
   },
   "outputs": [
    {
     "data": {
      "text/html": [
       "<div>\n",
       "<style scoped>\n",
       "    .dataframe tbody tr th:only-of-type {\n",
       "        vertical-align: middle;\n",
       "    }\n",
       "\n",
       "    .dataframe tbody tr th {\n",
       "        vertical-align: top;\n",
       "    }\n",
       "\n",
       "    .dataframe thead th {\n",
       "        text-align: right;\n",
       "    }\n",
       "</style>\n",
       "<table border=\"1\" class=\"dataframe\">\n",
       "  <thead>\n",
       "    <tr style=\"text-align: right;\">\n",
       "      <th></th>\n",
       "      <th>date</th>\n",
       "      <th>Close</th>\n",
       "    </tr>\n",
       "  </thead>\n",
       "  <tbody>\n",
       "    <tr>\n",
       "      <th>0</th>\n",
       "      <td>2011-01-01</td>\n",
       "      <td>NaN</td>\n",
       "    </tr>\n",
       "    <tr>\n",
       "      <th>1</th>\n",
       "      <td>2011-01-02</td>\n",
       "      <td>NaN</td>\n",
       "    </tr>\n",
       "    <tr>\n",
       "      <th>2</th>\n",
       "      <td>2011-01-03</td>\n",
       "      <td>1124.65</td>\n",
       "    </tr>\n",
       "    <tr>\n",
       "      <th>3</th>\n",
       "      <td>2011-01-04</td>\n",
       "      <td>1125.50</td>\n",
       "    </tr>\n",
       "    <tr>\n",
       "      <th>4</th>\n",
       "      <td>2011-01-05</td>\n",
       "      <td>1123.50</td>\n",
       "    </tr>\n",
       "    <tr>\n",
       "      <th>...</th>\n",
       "      <td>...</td>\n",
       "      <td>...</td>\n",
       "    </tr>\n",
       "    <tr>\n",
       "      <th>3648</th>\n",
       "      <td>2020-12-27</td>\n",
       "      <td>NaN</td>\n",
       "    </tr>\n",
       "    <tr>\n",
       "      <th>3649</th>\n",
       "      <td>2020-12-28</td>\n",
       "      <td>1095.60</td>\n",
       "    </tr>\n",
       "    <tr>\n",
       "      <th>3650</th>\n",
       "      <td>2020-12-29</td>\n",
       "      <td>1090.97</td>\n",
       "    </tr>\n",
       "    <tr>\n",
       "      <th>3651</th>\n",
       "      <td>2020-12-30</td>\n",
       "      <td>1087.62</td>\n",
       "    </tr>\n",
       "    <tr>\n",
       "      <th>3652</th>\n",
       "      <td>2020-12-31</td>\n",
       "      <td>1084.47</td>\n",
       "    </tr>\n",
       "  </tbody>\n",
       "</table>\n",
       "<p>3653 rows × 2 columns</p>\n",
       "</div>"
      ],
      "text/plain": [
       "            date    Close\n",
       "0     2011-01-01      NaN\n",
       "1     2011-01-02      NaN\n",
       "2     2011-01-03  1124.65\n",
       "3     2011-01-04  1125.50\n",
       "4     2011-01-05  1123.50\n",
       "...          ...      ...\n",
       "3648  2020-12-27      NaN\n",
       "3649  2020-12-28  1095.60\n",
       "3650  2020-12-29  1090.97\n",
       "3651  2020-12-30  1087.62\n",
       "3652  2020-12-31  1084.47\n",
       "\n",
       "[3653 rows x 2 columns]"
      ]
     },
     "execution_count": 27,
     "metadata": {},
     "output_type": "execute_result"
    }
   ],
   "source": [
    "df_rate_date = pd.merge(df_date2, df_rate, how= 'left', on = 'date')\n",
    "df_rate_date"
   ]
  },
  {
   "cell_type": "code",
   "execution_count": 28,
   "id": "9fa7929e",
   "metadata": {
    "ExecuteTime": {
     "end_time": "2022-05-22T02:52:27.135365Z",
     "start_time": "2022-05-22T02:52:27.124216Z"
    }
   },
   "outputs": [],
   "source": [
    "df_rate_date.ffill(inplace=True)"
   ]
  },
  {
   "cell_type": "code",
   "execution_count": 29,
   "id": "a9c81a57",
   "metadata": {
    "ExecuteTime": {
     "end_time": "2022-05-22T02:52:29.921205Z",
     "start_time": "2022-05-22T02:52:29.912107Z"
    }
   },
   "outputs": [],
   "source": [
    "df_rate_date.bfill(inplace=True)"
   ]
  },
  {
   "cell_type": "code",
   "execution_count": 30,
   "id": "9b6f12ed",
   "metadata": {
    "ExecuteTime": {
     "end_time": "2022-05-22T02:52:32.234342Z",
     "start_time": "2022-05-22T02:52:32.211258Z"
    }
   },
   "outputs": [
    {
     "data": {
      "text/html": [
       "<div>\n",
       "<style scoped>\n",
       "    .dataframe tbody tr th:only-of-type {\n",
       "        vertical-align: middle;\n",
       "    }\n",
       "\n",
       "    .dataframe tbody tr th {\n",
       "        vertical-align: top;\n",
       "    }\n",
       "\n",
       "    .dataframe thead th {\n",
       "        text-align: right;\n",
       "    }\n",
       "</style>\n",
       "<table border=\"1\" class=\"dataframe\">\n",
       "  <thead>\n",
       "    <tr style=\"text-align: right;\">\n",
       "      <th></th>\n",
       "      <th>date</th>\n",
       "      <th>Close</th>\n",
       "    </tr>\n",
       "  </thead>\n",
       "  <tbody>\n",
       "    <tr>\n",
       "      <th>0</th>\n",
       "      <td>2011-01-01</td>\n",
       "      <td>1124.65</td>\n",
       "    </tr>\n",
       "    <tr>\n",
       "      <th>1</th>\n",
       "      <td>2011-01-02</td>\n",
       "      <td>1124.65</td>\n",
       "    </tr>\n",
       "    <tr>\n",
       "      <th>2</th>\n",
       "      <td>2011-01-03</td>\n",
       "      <td>1124.65</td>\n",
       "    </tr>\n",
       "    <tr>\n",
       "      <th>3</th>\n",
       "      <td>2011-01-04</td>\n",
       "      <td>1125.50</td>\n",
       "    </tr>\n",
       "    <tr>\n",
       "      <th>4</th>\n",
       "      <td>2011-01-05</td>\n",
       "      <td>1123.50</td>\n",
       "    </tr>\n",
       "    <tr>\n",
       "      <th>...</th>\n",
       "      <td>...</td>\n",
       "      <td>...</td>\n",
       "    </tr>\n",
       "    <tr>\n",
       "      <th>3648</th>\n",
       "      <td>2020-12-27</td>\n",
       "      <td>1099.07</td>\n",
       "    </tr>\n",
       "    <tr>\n",
       "      <th>3649</th>\n",
       "      <td>2020-12-28</td>\n",
       "      <td>1095.60</td>\n",
       "    </tr>\n",
       "    <tr>\n",
       "      <th>3650</th>\n",
       "      <td>2020-12-29</td>\n",
       "      <td>1090.97</td>\n",
       "    </tr>\n",
       "    <tr>\n",
       "      <th>3651</th>\n",
       "      <td>2020-12-30</td>\n",
       "      <td>1087.62</td>\n",
       "    </tr>\n",
       "    <tr>\n",
       "      <th>3652</th>\n",
       "      <td>2020-12-31</td>\n",
       "      <td>1084.47</td>\n",
       "    </tr>\n",
       "  </tbody>\n",
       "</table>\n",
       "<p>3653 rows × 2 columns</p>\n",
       "</div>"
      ],
      "text/plain": [
       "            date    Close\n",
       "0     2011-01-01  1124.65\n",
       "1     2011-01-02  1124.65\n",
       "2     2011-01-03  1124.65\n",
       "3     2011-01-04  1125.50\n",
       "4     2011-01-05  1123.50\n",
       "...          ...      ...\n",
       "3648  2020-12-27  1099.07\n",
       "3649  2020-12-28  1095.60\n",
       "3650  2020-12-29  1090.97\n",
       "3651  2020-12-30  1087.62\n",
       "3652  2020-12-31  1084.47\n",
       "\n",
       "[3653 rows x 2 columns]"
      ]
     },
     "execution_count": 30,
     "metadata": {},
     "output_type": "execute_result"
    }
   ],
   "source": [
    "df_rate_date"
   ]
  },
  {
   "cell_type": "markdown",
   "id": "d3c42a7f",
   "metadata": {},
   "source": [
    "# kospi + 환율 데이터"
   ]
  },
  {
   "cell_type": "code",
   "execution_count": 31,
   "id": "a478b1de",
   "metadata": {
    "ExecuteTime": {
     "end_time": "2022-05-22T02:52:34.999627Z",
     "start_time": "2022-05-22T02:52:34.985815Z"
    }
   },
   "outputs": [
    {
     "data": {
      "text/plain": [
       "((3653, 2), (3653, 3))"
      ]
     },
     "execution_count": 31,
     "metadata": {},
     "output_type": "execute_result"
    }
   ],
   "source": [
    "df_rate_date.shape, df_kospi.shape"
   ]
  },
  {
   "cell_type": "code",
   "execution_count": 32,
   "id": "23606638",
   "metadata": {
    "ExecuteTime": {
     "end_time": "2022-05-22T02:52:36.129198Z",
     "start_time": "2022-05-22T02:52:36.107968Z"
    }
   },
   "outputs": [
    {
     "data": {
      "text/html": [
       "<div>\n",
       "<style scoped>\n",
       "    .dataframe tbody tr th:only-of-type {\n",
       "        vertical-align: middle;\n",
       "    }\n",
       "\n",
       "    .dataframe tbody tr th {\n",
       "        vertical-align: top;\n",
       "    }\n",
       "\n",
       "    .dataframe thead th {\n",
       "        text-align: right;\n",
       "    }\n",
       "</style>\n",
       "<table border=\"1\" class=\"dataframe\">\n",
       "  <thead>\n",
       "    <tr style=\"text-align: right;\">\n",
       "      <th></th>\n",
       "      <th>date</th>\n",
       "      <th>Close_x</th>\n",
       "      <th>weekday</th>\n",
       "      <th>Close_y</th>\n",
       "    </tr>\n",
       "  </thead>\n",
       "  <tbody>\n",
       "    <tr>\n",
       "      <th>0</th>\n",
       "      <td>2011-01-01</td>\n",
       "      <td>1124.65</td>\n",
       "      <td>0</td>\n",
       "      <td>2051.00</td>\n",
       "    </tr>\n",
       "    <tr>\n",
       "      <th>1</th>\n",
       "      <td>2011-01-02</td>\n",
       "      <td>1124.65</td>\n",
       "      <td>0</td>\n",
       "      <td>2051.00</td>\n",
       "    </tr>\n",
       "    <tr>\n",
       "      <th>2</th>\n",
       "      <td>2011-01-03</td>\n",
       "      <td>1124.65</td>\n",
       "      <td>0</td>\n",
       "      <td>2070.08</td>\n",
       "    </tr>\n",
       "    <tr>\n",
       "      <th>3</th>\n",
       "      <td>2011-01-04</td>\n",
       "      <td>1125.50</td>\n",
       "      <td>0</td>\n",
       "      <td>2085.14</td>\n",
       "    </tr>\n",
       "    <tr>\n",
       "      <th>4</th>\n",
       "      <td>2011-01-05</td>\n",
       "      <td>1123.50</td>\n",
       "      <td>0</td>\n",
       "      <td>2082.55</td>\n",
       "    </tr>\n",
       "    <tr>\n",
       "      <th>...</th>\n",
       "      <td>...</td>\n",
       "      <td>...</td>\n",
       "      <td>...</td>\n",
       "      <td>...</td>\n",
       "    </tr>\n",
       "    <tr>\n",
       "      <th>3648</th>\n",
       "      <td>2020-12-27</td>\n",
       "      <td>1099.07</td>\n",
       "      <td>0</td>\n",
       "      <td>2806.86</td>\n",
       "    </tr>\n",
       "    <tr>\n",
       "      <th>3649</th>\n",
       "      <td>2020-12-28</td>\n",
       "      <td>1095.60</td>\n",
       "      <td>0</td>\n",
       "      <td>2808.60</td>\n",
       "    </tr>\n",
       "    <tr>\n",
       "      <th>3650</th>\n",
       "      <td>2020-12-29</td>\n",
       "      <td>1090.97</td>\n",
       "      <td>0</td>\n",
       "      <td>2820.51</td>\n",
       "    </tr>\n",
       "    <tr>\n",
       "      <th>3651</th>\n",
       "      <td>2020-12-30</td>\n",
       "      <td>1087.62</td>\n",
       "      <td>0</td>\n",
       "      <td>2873.47</td>\n",
       "    </tr>\n",
       "    <tr>\n",
       "      <th>3652</th>\n",
       "      <td>2020-12-31</td>\n",
       "      <td>1084.47</td>\n",
       "      <td>0</td>\n",
       "      <td>2873.47</td>\n",
       "    </tr>\n",
       "  </tbody>\n",
       "</table>\n",
       "<p>3653 rows × 4 columns</p>\n",
       "</div>"
      ],
      "text/plain": [
       "            date  Close_x  weekday  Close_y\n",
       "0     2011-01-01  1124.65        0  2051.00\n",
       "1     2011-01-02  1124.65        0  2051.00\n",
       "2     2011-01-03  1124.65        0  2070.08\n",
       "3     2011-01-04  1125.50        0  2085.14\n",
       "4     2011-01-05  1123.50        0  2082.55\n",
       "...          ...      ...      ...      ...\n",
       "3648  2020-12-27  1099.07        0  2806.86\n",
       "3649  2020-12-28  1095.60        0  2808.60\n",
       "3650  2020-12-29  1090.97        0  2820.51\n",
       "3651  2020-12-30  1087.62        0  2873.47\n",
       "3652  2020-12-31  1084.47        0  2873.47\n",
       "\n",
       "[3653 rows x 4 columns]"
      ]
     },
     "execution_count": 32,
     "metadata": {},
     "output_type": "execute_result"
    }
   ],
   "source": [
    "df_fin = pd.merge(df_rate_date, df_kospi, how = 'left', on = 'date')\n",
    "df_fin"
   ]
  },
  {
   "cell_type": "code",
   "execution_count": 33,
   "id": "30f53d7c",
   "metadata": {
    "ExecuteTime": {
     "end_time": "2022-05-22T02:52:39.666345Z",
     "start_time": "2022-05-22T02:52:39.627358Z"
    }
   },
   "outputs": [],
   "source": [
    "df_fin.to_csv('kospi+환율.csv', index = False)"
   ]
  },
  {
   "cell_type": "code",
   "execution_count": 34,
   "id": "d1c8b3d3",
   "metadata": {
    "ExecuteTime": {
     "end_time": "2022-05-22T02:52:41.856032Z",
     "start_time": "2022-05-22T02:52:41.826524Z"
    }
   },
   "outputs": [
    {
     "data": {
      "text/html": [
       "<div>\n",
       "<style scoped>\n",
       "    .dataframe tbody tr th:only-of-type {\n",
       "        vertical-align: middle;\n",
       "    }\n",
       "\n",
       "    .dataframe tbody tr th {\n",
       "        vertical-align: top;\n",
       "    }\n",
       "\n",
       "    .dataframe thead th {\n",
       "        text-align: right;\n",
       "    }\n",
       "</style>\n",
       "<table border=\"1\" class=\"dataframe\">\n",
       "  <thead>\n",
       "    <tr style=\"text-align: right;\">\n",
       "      <th></th>\n",
       "      <th>date</th>\n",
       "      <th>Close_x</th>\n",
       "      <th>weekday</th>\n",
       "      <th>Close_y</th>\n",
       "    </tr>\n",
       "  </thead>\n",
       "  <tbody>\n",
       "    <tr>\n",
       "      <th>0</th>\n",
       "      <td>2011-01-01</td>\n",
       "      <td>1124.65</td>\n",
       "      <td>0</td>\n",
       "      <td>2051.00</td>\n",
       "    </tr>\n",
       "    <tr>\n",
       "      <th>1</th>\n",
       "      <td>2011-01-02</td>\n",
       "      <td>1124.65</td>\n",
       "      <td>0</td>\n",
       "      <td>2051.00</td>\n",
       "    </tr>\n",
       "    <tr>\n",
       "      <th>2</th>\n",
       "      <td>2011-01-03</td>\n",
       "      <td>1124.65</td>\n",
       "      <td>0</td>\n",
       "      <td>2070.08</td>\n",
       "    </tr>\n",
       "    <tr>\n",
       "      <th>3</th>\n",
       "      <td>2011-01-04</td>\n",
       "      <td>1125.50</td>\n",
       "      <td>0</td>\n",
       "      <td>2085.14</td>\n",
       "    </tr>\n",
       "    <tr>\n",
       "      <th>4</th>\n",
       "      <td>2011-01-05</td>\n",
       "      <td>1123.50</td>\n",
       "      <td>0</td>\n",
       "      <td>2082.55</td>\n",
       "    </tr>\n",
       "    <tr>\n",
       "      <th>...</th>\n",
       "      <td>...</td>\n",
       "      <td>...</td>\n",
       "      <td>...</td>\n",
       "      <td>...</td>\n",
       "    </tr>\n",
       "    <tr>\n",
       "      <th>3648</th>\n",
       "      <td>2020-12-27</td>\n",
       "      <td>1099.07</td>\n",
       "      <td>0</td>\n",
       "      <td>2806.86</td>\n",
       "    </tr>\n",
       "    <tr>\n",
       "      <th>3649</th>\n",
       "      <td>2020-12-28</td>\n",
       "      <td>1095.60</td>\n",
       "      <td>0</td>\n",
       "      <td>2808.60</td>\n",
       "    </tr>\n",
       "    <tr>\n",
       "      <th>3650</th>\n",
       "      <td>2020-12-29</td>\n",
       "      <td>1090.97</td>\n",
       "      <td>0</td>\n",
       "      <td>2820.51</td>\n",
       "    </tr>\n",
       "    <tr>\n",
       "      <th>3651</th>\n",
       "      <td>2020-12-30</td>\n",
       "      <td>1087.62</td>\n",
       "      <td>0</td>\n",
       "      <td>2873.47</td>\n",
       "    </tr>\n",
       "    <tr>\n",
       "      <th>3652</th>\n",
       "      <td>2020-12-31</td>\n",
       "      <td>1084.47</td>\n",
       "      <td>0</td>\n",
       "      <td>2873.47</td>\n",
       "    </tr>\n",
       "  </tbody>\n",
       "</table>\n",
       "<p>3653 rows × 4 columns</p>\n",
       "</div>"
      ],
      "text/plain": [
       "            date  Close_x  weekday  Close_y\n",
       "0     2011-01-01  1124.65        0  2051.00\n",
       "1     2011-01-02  1124.65        0  2051.00\n",
       "2     2011-01-03  1124.65        0  2070.08\n",
       "3     2011-01-04  1125.50        0  2085.14\n",
       "4     2011-01-05  1123.50        0  2082.55\n",
       "...          ...      ...      ...      ...\n",
       "3648  2020-12-27  1099.07        0  2806.86\n",
       "3649  2020-12-28  1095.60        0  2808.60\n",
       "3650  2020-12-29  1090.97        0  2820.51\n",
       "3651  2020-12-30  1087.62        0  2873.47\n",
       "3652  2020-12-31  1084.47        0  2873.47\n",
       "\n",
       "[3653 rows x 4 columns]"
      ]
     },
     "execution_count": 34,
     "metadata": {},
     "output_type": "execute_result"
    }
   ],
   "source": [
    "df = pd.read_csv('kospi+환율.csv')\n",
    "df"
   ]
  },
  {
   "cell_type": "code",
   "execution_count": 35,
   "id": "9492b7fa",
   "metadata": {
    "ExecuteTime": {
     "end_time": "2022-05-22T02:52:44.439879Z",
     "start_time": "2022-05-22T02:52:44.160291Z"
    }
   },
   "outputs": [
    {
     "name": "stderr",
     "output_type": "stream",
     "text": [
      "<ipython-input-35-917ae6a0054d>:1: FutureWarning: As the xlwt package is no longer maintained, the xlwt engine will be removed in a future version of pandas. This is the only engine in pandas that supports writing in the xls format. Install openpyxl and write to an xlsx file instead. You can set the option io.excel.xls.writer to 'xlwt' to silence this warning. While this option is deprecated and will also raise a warning, it can be globally set and the warning suppressed.\n",
      "  df_fin.to_excel('kospi+환율.xls', index = False)\n"
     ]
    }
   ],
   "source": [
    "df_fin.to_excel('kospi+환율.xls', index = False)"
   ]
  },
  {
   "cell_type": "code",
   "execution_count": null,
   "id": "8fad0c93",
   "metadata": {},
   "outputs": [],
   "source": []
  }
 ],
 "metadata": {
  "kernelspec": {
   "display_name": "Python 3",
   "language": "python",
   "name": "python3"
  },
  "language_info": {
   "codemirror_mode": {
    "name": "ipython",
    "version": 3
   },
   "file_extension": ".py",
   "mimetype": "text/x-python",
   "name": "python",
   "nbconvert_exporter": "python",
   "pygments_lexer": "ipython3",
   "version": "3.8.8"
  },
  "toc": {
   "base_numbering": 1,
   "nav_menu": {},
   "number_sections": true,
   "sideBar": true,
   "skip_h1_title": false,
   "title_cell": "Table of Contents",
   "title_sidebar": "Contents",
   "toc_cell": false,
   "toc_position": {
    "height": "calc(100% - 180px)",
    "left": "10px",
    "top": "150px",
    "width": "303.837px"
   },
   "toc_section_display": true,
   "toc_window_display": true
  }
 },
 "nbformat": 4,
 "nbformat_minor": 5
}
